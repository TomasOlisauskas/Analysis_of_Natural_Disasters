{
 "cells": [
  {
   "cell_type": "markdown",
   "id": "a3202085",
   "metadata": {},
   "source": [
    "# 1900-2016 metų Pasaulio natūralių katastrofų analizė"
   ]
  },
  {
   "cell_type": "markdown",
   "id": "8cafca03",
   "metadata": {},
   "source": [
    "Duomenys paimti iš www.kaggle.com."
   ]
  },
  {
   "cell_type": "markdown",
   "id": "f60e335a",
   "metadata": {},
   "source": [
    "![](https://lh3.googleusercontent.com/proxy/Nt_O3YUlf-FsOcr53WILoGi9K9S-hESJycL97PMmmiHDpA_h8Aw1vnUWxiWz0oBXYONvpI30wFNGFs-GO3Q4Oc_KB-66Hic)"
   ]
  },
  {
   "cell_type": "markdown",
   "id": "dd0eabd8",
   "metadata": {},
   "source": [
    "![](https://lh3.googleusercontent.com/proxy/kRiFhW3cd_usqk-mErtT2eTJwTnfano6AeFAsuQAwbxVvFLgbu9IsoNjdAlszvN_AX-5iNQS-TDR1LsIUFvtwftuqLx0nZ8)"
   ]
  },
  {
   "cell_type": "markdown",
   "id": "fb06632a",
   "metadata": {},
   "source": [
    "## Duomenų paketo sandara"
   ]
  },
  {
   "cell_type": "markdown",
   "id": "58967a58",
   "metadata": {},
   "source": [
    "\n",
    "25 stulpeliai ir apie 14 tūkstančių eilučių."
   ]
  },
  {
   "cell_type": "markdown",
   "id": "c1f4ff10",
   "metadata": {},
   "source": [
    "\n",
    "Duomenys apie šešių rūšių katastrofas, išskaidytas ir paanalizuotas detaliau."
   ]
  },
  {
   "cell_type": "markdown",
   "id": "cfec4b23",
   "metadata": {},
   "source": [
    "## Iškeltos hipotezės"
   ]
  },
  {
   "cell_type": "markdown",
   "id": "23106f57",
   "metadata": {},
   "source": [
    "    1) Daugiausiai natūralių katastrofų įvyksta Azijos kontinente.\n",
    "    2) JAV yra katastrofų \"karalienė\".\n",
    "    3) Vulkaninis aktyvumas tiesiogiai susijęs su žemės drebėjimais.\n",
    "    4) Biologinės katastrofos vidutiniškai pareikalauja daugiausiai žmonių aukų.\n",
    "    5) Ilgiau nei metus trunkančios ir mirtingiausios sausros daugiausiai įvyksta Afrikos kontinente.\n",
    "    6) Natūralios katastrofos mažiausiai paveikia Europos kontinento gyventojus.\n",
    "    7) Bėgant metams katastrofos dažnėja.   "
   ]
  },
  {
   "cell_type": "markdown",
   "id": "c86ab72c",
   "metadata": {},
   "source": [
    "    "
   ]
  },
  {
   "cell_type": "code",
   "execution_count": 70,
   "id": "3eafee92",
   "metadata": {},
   "outputs": [],
   "source": [
    "import pandas as pd\n",
    "import numpy as np\n",
    "import mysql.connector\n",
    "import matplotlib\n",
    "import matplotlib.pyplot as plt\n",
    "import seaborn as sns\n",
    "from datetime import datetime"
   ]
  },
  {
   "cell_type": "code",
   "execution_count": 71,
   "id": "c613b099",
   "metadata": {
    "scrolled": true
   },
   "outputs": [
    {
     "data": {
      "text/html": [
       "<div>\n",
       "<style scoped>\n",
       "    .dataframe tbody tr th:only-of-type {\n",
       "        vertical-align: middle;\n",
       "    }\n",
       "\n",
       "    .dataframe tbody tr th {\n",
       "        vertical-align: top;\n",
       "    }\n",
       "\n",
       "    .dataframe thead th {\n",
       "        text-align: right;\n",
       "    }\n",
       "</style>\n",
       "<table border=\"1\" class=\"dataframe\">\n",
       "  <thead>\n",
       "    <tr style=\"text-align: right;\">\n",
       "      <th></th>\n",
       "      <th>ï»¿Year</th>\n",
       "      <th>Disaster_Subgroup</th>\n",
       "      <th>Disaster_Type</th>\n",
       "      <th>Disaster_Subtype</th>\n",
       "      <th>Disaster_Subsubtype</th>\n",
       "      <th>Event_Name</th>\n",
       "      <th>Country</th>\n",
       "      <th>ISO</th>\n",
       "      <th>Region</th>\n",
       "      <th>Continent</th>\n",
       "      <th>...</th>\n",
       "      <th>End_Year</th>\n",
       "      <th>End_Month</th>\n",
       "      <th>Total_Deaths</th>\n",
       "      <th>No_Injured</th>\n",
       "      <th>No_Affected</th>\n",
       "      <th>No_Homeless</th>\n",
       "      <th>Total_Affected</th>\n",
       "      <th>Insured_Damages</th>\n",
       "      <th>Total_Damages</th>\n",
       "      <th>CPI</th>\n",
       "    </tr>\n",
       "  </thead>\n",
       "  <tbody>\n",
       "    <tr>\n",
       "      <th>0</th>\n",
       "      <td>1900</td>\n",
       "      <td>Climatological</td>\n",
       "      <td>Drought</td>\n",
       "      <td>Drought</td>\n",
       "      <td></td>\n",
       "      <td></td>\n",
       "      <td>Cabo Verde</td>\n",
       "      <td>CPV</td>\n",
       "      <td>Western Africa</td>\n",
       "      <td>Africa</td>\n",
       "      <td>...</td>\n",
       "      <td>1900</td>\n",
       "      <td></td>\n",
       "      <td>11000</td>\n",
       "      <td></td>\n",
       "      <td></td>\n",
       "      <td></td>\n",
       "      <td></td>\n",
       "      <td></td>\n",
       "      <td></td>\n",
       "      <td>3.221647271</td>\n",
       "    </tr>\n",
       "    <tr>\n",
       "      <th>1</th>\n",
       "      <td>1900</td>\n",
       "      <td>Climatological</td>\n",
       "      <td>Drought</td>\n",
       "      <td>Drought</td>\n",
       "      <td></td>\n",
       "      <td></td>\n",
       "      <td>India</td>\n",
       "      <td>IND</td>\n",
       "      <td>Southern Asia</td>\n",
       "      <td>Asia</td>\n",
       "      <td>...</td>\n",
       "      <td>1900</td>\n",
       "      <td></td>\n",
       "      <td>1250000</td>\n",
       "      <td></td>\n",
       "      <td></td>\n",
       "      <td></td>\n",
       "      <td></td>\n",
       "      <td></td>\n",
       "      <td></td>\n",
       "      <td>3.221647271</td>\n",
       "    </tr>\n",
       "    <tr>\n",
       "      <th>2</th>\n",
       "      <td>1902</td>\n",
       "      <td>Geophysical</td>\n",
       "      <td>Earthquake</td>\n",
       "      <td>Ground movement</td>\n",
       "      <td></td>\n",
       "      <td></td>\n",
       "      <td>Guatemala</td>\n",
       "      <td>GTM</td>\n",
       "      <td>Central America</td>\n",
       "      <td>Americas</td>\n",
       "      <td>...</td>\n",
       "      <td>1902</td>\n",
       "      <td>4</td>\n",
       "      <td>2000</td>\n",
       "      <td></td>\n",
       "      <td></td>\n",
       "      <td></td>\n",
       "      <td></td>\n",
       "      <td></td>\n",
       "      <td>25000</td>\n",
       "      <td>3.350513162</td>\n",
       "    </tr>\n",
       "    <tr>\n",
       "      <th>3</th>\n",
       "      <td>1902</td>\n",
       "      <td>Geophysical</td>\n",
       "      <td>Volcanic activity</td>\n",
       "      <td>Ash fall</td>\n",
       "      <td></td>\n",
       "      <td>Santa Maria</td>\n",
       "      <td>Guatemala</td>\n",
       "      <td>GTM</td>\n",
       "      <td>Central America</td>\n",
       "      <td>Americas</td>\n",
       "      <td>...</td>\n",
       "      <td>1902</td>\n",
       "      <td>4</td>\n",
       "      <td>1000</td>\n",
       "      <td></td>\n",
       "      <td></td>\n",
       "      <td></td>\n",
       "      <td></td>\n",
       "      <td></td>\n",
       "      <td></td>\n",
       "      <td>3.350513162</td>\n",
       "    </tr>\n",
       "    <tr>\n",
       "      <th>4</th>\n",
       "      <td>1902</td>\n",
       "      <td>Geophysical</td>\n",
       "      <td>Volcanic activity</td>\n",
       "      <td>Ash fall</td>\n",
       "      <td></td>\n",
       "      <td>Santa Maria</td>\n",
       "      <td>Guatemala</td>\n",
       "      <td>GTM</td>\n",
       "      <td>Central America</td>\n",
       "      <td>Americas</td>\n",
       "      <td>...</td>\n",
       "      <td>1902</td>\n",
       "      <td>10</td>\n",
       "      <td>6000</td>\n",
       "      <td></td>\n",
       "      <td></td>\n",
       "      <td></td>\n",
       "      <td></td>\n",
       "      <td></td>\n",
       "      <td></td>\n",
       "      <td>3.350513162</td>\n",
       "    </tr>\n",
       "  </tbody>\n",
       "</table>\n",
       "<p>5 rows × 25 columns</p>\n",
       "</div>"
      ],
      "text/plain": [
       "  ï»¿Year Disaster_Subgroup      Disaster_Type Disaster_Subtype  \\\n",
       "0    1900    Climatological            Drought          Drought   \n",
       "1    1900    Climatological            Drought          Drought   \n",
       "2    1902       Geophysical         Earthquake  Ground movement   \n",
       "3    1902       Geophysical  Volcanic activity         Ash fall   \n",
       "4    1902       Geophysical  Volcanic activity         Ash fall   \n",
       "\n",
       "  Disaster_Subsubtype   Event_Name     Country  ISO           Region  \\\n",
       "0                                   Cabo Verde  CPV   Western Africa   \n",
       "1                                        India  IND    Southern Asia   \n",
       "2                                    Guatemala  GTM  Central America   \n",
       "3                      Santa Maria   Guatemala  GTM  Central America   \n",
       "4                      Santa Maria   Guatemala  GTM  Central America   \n",
       "\n",
       "  Continent  ... End_Year End_Month Total_Deaths No_Injured No_Affected  \\\n",
       "0    Africa  ...     1900                  11000                          \n",
       "1      Asia  ...     1900                1250000                          \n",
       "2  Americas  ...     1902         4         2000                          \n",
       "3  Americas  ...     1902         4         1000                          \n",
       "4  Americas  ...     1902        10         6000                          \n",
       "\n",
       "  No_Homeless Total_Affected Insured_Damages Total_Damages          CPI  \n",
       "0                                                           3.221647271  \n",
       "1                                                           3.221647271  \n",
       "2                                                    25000  3.350513162  \n",
       "3                                                           3.350513162  \n",
       "4                                                           3.350513162  \n",
       "\n",
       "[5 rows x 25 columns]"
      ]
     },
     "execution_count": 71,
     "metadata": {},
     "output_type": "execute_result"
    }
   ],
   "source": [
    "mydb = mysql.connector.connect(\n",
    "    host=\"localhost\",\n",
    "    port=\"3317\",\n",
    "    user=\"root\",\n",
    "    password=\"KarlMalone1821?\"\n",
    ")\n",
    "cursor = mydb.cursor()\n",
    "cursor.execute('USE natural_disasters')\n",
    "natural_disasters = pd.read_sql('SELECT * FROM natural_disasters', con=mydb)\n",
    "natural_disasters.head(5)"
   ]
  },
  {
   "cell_type": "code",
   "execution_count": 72,
   "id": "5d7e25c8",
   "metadata": {},
   "outputs": [],
   "source": [
    "natural_disasters.rename(columns={'ï»¿Year': 'Year'}, inplace=True)"
   ]
  },
  {
   "cell_type": "code",
   "execution_count": 73,
   "id": "89d8bd81",
   "metadata": {},
   "outputs": [],
   "source": [
    "natural_disasters=natural_disasters.drop(['Disaster_Subsubtype', 'ISO', 'Aid_Contribution',\n",
    "                                           'Start_Month', 'End_Month', 'Insured_Damages',\n",
    "                                           'Total_Damages', 'CPI'],axis=1)"
   ]
  },
  {
   "cell_type": "code",
   "execution_count": 74,
   "id": "d25cb12b",
   "metadata": {
    "scrolled": false
   },
   "outputs": [
    {
     "data": {
      "text/html": [
       "<div>\n",
       "<style scoped>\n",
       "    .dataframe tbody tr th:only-of-type {\n",
       "        vertical-align: middle;\n",
       "    }\n",
       "\n",
       "    .dataframe tbody tr th {\n",
       "        vertical-align: top;\n",
       "    }\n",
       "\n",
       "    .dataframe thead th {\n",
       "        text-align: right;\n",
       "    }\n",
       "</style>\n",
       "<table border=\"1\" class=\"dataframe\">\n",
       "  <thead>\n",
       "    <tr style=\"text-align: right;\">\n",
       "      <th></th>\n",
       "      <th>Year</th>\n",
       "      <th>Disaster_Subgroup</th>\n",
       "      <th>Disaster_Type</th>\n",
       "      <th>Disaster_Subtype</th>\n",
       "      <th>Event_Name</th>\n",
       "      <th>Country</th>\n",
       "      <th>Region</th>\n",
       "      <th>Continent</th>\n",
       "      <th>Location</th>\n",
       "      <th>Origin</th>\n",
       "      <th>Start_Year</th>\n",
       "      <th>End_Year</th>\n",
       "      <th>Total_Deaths</th>\n",
       "      <th>No_Injured</th>\n",
       "      <th>No_Affected</th>\n",
       "      <th>No_Homeless</th>\n",
       "      <th>Total_Affected</th>\n",
       "    </tr>\n",
       "  </thead>\n",
       "  <tbody>\n",
       "    <tr>\n",
       "      <th>0</th>\n",
       "      <td>1900</td>\n",
       "      <td>Climatological</td>\n",
       "      <td>Drought</td>\n",
       "      <td>Drought</td>\n",
       "      <td></td>\n",
       "      <td>Cabo Verde</td>\n",
       "      <td>Western Africa</td>\n",
       "      <td>Africa</td>\n",
       "      <td>Countrywide</td>\n",
       "      <td></td>\n",
       "      <td>1900</td>\n",
       "      <td>1900</td>\n",
       "      <td>11000</td>\n",
       "      <td></td>\n",
       "      <td></td>\n",
       "      <td></td>\n",
       "      <td></td>\n",
       "    </tr>\n",
       "    <tr>\n",
       "      <th>1</th>\n",
       "      <td>1900</td>\n",
       "      <td>Climatological</td>\n",
       "      <td>Drought</td>\n",
       "      <td>Drought</td>\n",
       "      <td></td>\n",
       "      <td>India</td>\n",
       "      <td>Southern Asia</td>\n",
       "      <td>Asia</td>\n",
       "      <td>Bengal</td>\n",
       "      <td></td>\n",
       "      <td>1900</td>\n",
       "      <td>1900</td>\n",
       "      <td>1250000</td>\n",
       "      <td></td>\n",
       "      <td></td>\n",
       "      <td></td>\n",
       "      <td></td>\n",
       "    </tr>\n",
       "    <tr>\n",
       "      <th>2</th>\n",
       "      <td>1902</td>\n",
       "      <td>Geophysical</td>\n",
       "      <td>Earthquake</td>\n",
       "      <td>Ground movement</td>\n",
       "      <td></td>\n",
       "      <td>Guatemala</td>\n",
       "      <td>Central America</td>\n",
       "      <td>Americas</td>\n",
       "      <td>Quezaltenango, San Marcos</td>\n",
       "      <td></td>\n",
       "      <td>1902</td>\n",
       "      <td>1902</td>\n",
       "      <td>2000</td>\n",
       "      <td></td>\n",
       "      <td></td>\n",
       "      <td></td>\n",
       "      <td></td>\n",
       "    </tr>\n",
       "  </tbody>\n",
       "</table>\n",
       "</div>"
      ],
      "text/plain": [
       "   Year Disaster_Subgroup Disaster_Type Disaster_Subtype Event_Name  \\\n",
       "0  1900    Climatological       Drought          Drought              \n",
       "1  1900    Climatological       Drought          Drought              \n",
       "2  1902       Geophysical    Earthquake  Ground movement              \n",
       "\n",
       "      Country           Region Continent                   Location Origin  \\\n",
       "0  Cabo Verde   Western Africa    Africa                Countrywide          \n",
       "1       India    Southern Asia      Asia                     Bengal          \n",
       "2   Guatemala  Central America  Americas  Quezaltenango, San Marcos          \n",
       "\n",
       "  Start_Year End_Year Total_Deaths No_Injured No_Affected No_Homeless  \\\n",
       "0       1900     1900        11000                                      \n",
       "1       1900     1900      1250000                                      \n",
       "2       1902     1902         2000                                      \n",
       "\n",
       "  Total_Affected  \n",
       "0                 \n",
       "1                 \n",
       "2                 "
      ]
     },
     "execution_count": 74,
     "metadata": {},
     "output_type": "execute_result"
    }
   ],
   "source": [
    "natural_disasters.head(3)"
   ]
  },
  {
   "cell_type": "code",
   "execution_count": 75,
   "id": "3bef0a6f",
   "metadata": {},
   "outputs": [],
   "source": [
    "natural_disasters.to_csv('C:\\\\Users\\\\Tomas\\\\natural_disasters_for_tableau.csv')"
   ]
  },
  {
   "cell_type": "markdown",
   "id": "6769a246",
   "metadata": {},
   "source": [
    " "
   ]
  },
  {
   "cell_type": "markdown",
   "id": "13e5983c",
   "metadata": {},
   "source": [
    "### Daugiausiai natūralių katastrofų įvyksta Azijos kontinente"
   ]
  },
  {
   "cell_type": "code",
   "execution_count": 76,
   "id": "48559a96",
   "metadata": {},
   "outputs": [],
   "source": [
    "nd1 = natural_disasters"
   ]
  },
  {
   "cell_type": "code",
   "execution_count": 77,
   "id": "d1a3ecb6",
   "metadata": {},
   "outputs": [],
   "source": [
    "nd1 = nd1.groupby('Continent')['Continent'].count().sort_values(ascending=False)"
   ]
  },
  {
   "cell_type": "code",
   "execution_count": 78,
   "id": "ad52507b",
   "metadata": {},
   "outputs": [
    {
     "name": "stdout",
     "output_type": "stream",
     "text": [
      "Continent\n",
      "Asia        5564\n",
      "Americas    3476\n",
      "Africa      2555\n",
      "Europe      1738\n",
      "Oceania      640\n",
      "Name: Continent, dtype: int64\n"
     ]
    }
   ],
   "source": [
    "print(nd1)"
   ]
  },
  {
   "cell_type": "code",
   "execution_count": 79,
   "id": "5a2175c2",
   "metadata": {},
   "outputs": [
    {
     "name": "stdout",
     "output_type": "stream",
     "text": [
      "39.8\n"
     ]
    }
   ],
   "source": [
    "print((5564*100/nd1.sum()).round(decimals=1))"
   ]
  },
  {
   "cell_type": "code",
   "execution_count": 80,
   "id": "a76a119f",
   "metadata": {
    "scrolled": true
   },
   "outputs": [
    {
     "name": "stdout",
     "output_type": "stream",
     "text": [
      "AxesSubplot(0.125,0.125;0.775x0.755)\n"
     ]
    },
    {
     "data": {
      "image/png": "[encoded data removed]",
      "text/plain": [
       "<Figure size 432x288 with 1 Axes>"
      ]
     },
     "metadata": {
      "needs_background": "light"
     },
     "output_type": "display_data"
    }
   ],
   "source": [
    "print(nd1.plot.bar(x='Continent', y=['nd1'], title='Katastrofų kiekis pagal kontinentą', \n",
    "                   xlabel='', color=['y', 'r', 'k', 'b', 'g']))"
   ]
  },
  {
   "cell_type": "markdown",
   "id": "c96a7803",
   "metadata": {},
   "source": [
    " "
   ]
  },
  {
   "cell_type": "markdown",
   "id": "1c0f020c",
   "metadata": {},
   "source": [
    "### JAV yra katastrofų ,,karalienė''"
   ]
  },
  {
   "cell_type": "code",
   "execution_count": 81,
   "id": "7df9e00c",
   "metadata": {},
   "outputs": [],
   "source": [
    "nd2 = natural_disasters"
   ]
  },
  {
   "cell_type": "code",
   "execution_count": 82,
   "id": "c83eae0c",
   "metadata": {},
   "outputs": [
    {
     "data": {
      "text/html": [
       "<div>\n",
       "<style scoped>\n",
       "    .dataframe tbody tr th:only-of-type {\n",
       "        vertical-align: middle;\n",
       "    }\n",
       "\n",
       "    .dataframe tbody tr th {\n",
       "        vertical-align: top;\n",
       "    }\n",
       "\n",
       "    .dataframe thead th {\n",
       "        text-align: right;\n",
       "    }\n",
       "</style>\n",
       "<table border=\"1\" class=\"dataframe\">\n",
       "  <thead>\n",
       "    <tr style=\"text-align: right;\">\n",
       "      <th></th>\n",
       "      <th>Year</th>\n",
       "      <th>Disaster_Subgroup</th>\n",
       "      <th>Disaster_Type</th>\n",
       "      <th>Disaster_Subtype</th>\n",
       "      <th>Event_Name</th>\n",
       "      <th>Country</th>\n",
       "      <th>Region</th>\n",
       "      <th>Continent</th>\n",
       "      <th>Location</th>\n",
       "      <th>Origin</th>\n",
       "      <th>Start_Year</th>\n",
       "      <th>End_Year</th>\n",
       "      <th>Total_Deaths</th>\n",
       "      <th>No_Injured</th>\n",
       "      <th>No_Affected</th>\n",
       "      <th>No_Homeless</th>\n",
       "      <th>Total_Affected</th>\n",
       "    </tr>\n",
       "  </thead>\n",
       "  <tbody>\n",
       "    <tr>\n",
       "      <th>0</th>\n",
       "      <td>1900</td>\n",
       "      <td>Climatological</td>\n",
       "      <td>Drought</td>\n",
       "      <td>Drought</td>\n",
       "      <td></td>\n",
       "      <td>Cabo Verde</td>\n",
       "      <td>Western Africa</td>\n",
       "      <td>Africa</td>\n",
       "      <td>Countrywide</td>\n",
       "      <td></td>\n",
       "      <td>1900</td>\n",
       "      <td>1900</td>\n",
       "      <td>11000</td>\n",
       "      <td></td>\n",
       "      <td></td>\n",
       "      <td></td>\n",
       "      <td></td>\n",
       "    </tr>\n",
       "    <tr>\n",
       "      <th>1</th>\n",
       "      <td>1900</td>\n",
       "      <td>Climatological</td>\n",
       "      <td>Drought</td>\n",
       "      <td>Drought</td>\n",
       "      <td></td>\n",
       "      <td>India</td>\n",
       "      <td>Southern Asia</td>\n",
       "      <td>Asia</td>\n",
       "      <td>Bengal</td>\n",
       "      <td></td>\n",
       "      <td>1900</td>\n",
       "      <td>1900</td>\n",
       "      <td>1250000</td>\n",
       "      <td></td>\n",
       "      <td></td>\n",
       "      <td></td>\n",
       "      <td></td>\n",
       "    </tr>\n",
       "    <tr>\n",
       "      <th>2</th>\n",
       "      <td>1902</td>\n",
       "      <td>Geophysical</td>\n",
       "      <td>Earthquake</td>\n",
       "      <td>Ground movement</td>\n",
       "      <td></td>\n",
       "      <td>Guatemala</td>\n",
       "      <td>Central America</td>\n",
       "      <td>Americas</td>\n",
       "      <td>Quezaltenango, San Marcos</td>\n",
       "      <td></td>\n",
       "      <td>1902</td>\n",
       "      <td>1902</td>\n",
       "      <td>2000</td>\n",
       "      <td></td>\n",
       "      <td></td>\n",
       "      <td></td>\n",
       "      <td></td>\n",
       "    </tr>\n",
       "  </tbody>\n",
       "</table>\n",
       "</div>"
      ],
      "text/plain": [
       "   Year Disaster_Subgroup Disaster_Type Disaster_Subtype Event_Name  \\\n",
       "0  1900    Climatological       Drought          Drought              \n",
       "1  1900    Climatological       Drought          Drought              \n",
       "2  1902       Geophysical    Earthquake  Ground movement              \n",
       "\n",
       "      Country           Region Continent                   Location Origin  \\\n",
       "0  Cabo Verde   Western Africa    Africa                Countrywide          \n",
       "1       India    Southern Asia      Asia                     Bengal          \n",
       "2   Guatemala  Central America  Americas  Quezaltenango, San Marcos          \n",
       "\n",
       "  Start_Year End_Year Total_Deaths No_Injured No_Affected No_Homeless  \\\n",
       "0       1900     1900        11000                                      \n",
       "1       1900     1900      1250000                                      \n",
       "2       1902     1902         2000                                      \n",
       "\n",
       "  Total_Affected  \n",
       "0                 \n",
       "1                 \n",
       "2                 "
      ]
     },
     "execution_count": 82,
     "metadata": {},
     "output_type": "execute_result"
    }
   ],
   "source": [
    "nd2.head(3)"
   ]
  },
  {
   "cell_type": "code",
   "execution_count": 83,
   "id": "67c447a0",
   "metadata": {},
   "outputs": [],
   "source": [
    "nd2 = nd2.groupby('Country')['Country'].count().sort_values(ascending=False)\n"
   ]
  },
  {
   "cell_type": "code",
   "execution_count": 84,
   "id": "cc6ebfb0",
   "metadata": {
    "scrolled": true
   },
   "outputs": [
    {
     "name": "stdout",
     "output_type": "stream",
     "text": [
      "Country\n",
      "United States of America (the)    960\n",
      "China                             859\n",
      "India                             669\n",
      "Philippines (the)                 594\n",
      "Indonesia                         468\n",
      "Name: Country, dtype: int64\n"
     ]
    }
   ],
   "source": [
    "print(nd2.head(5))"
   ]
  },
  {
   "cell_type": "code",
   "execution_count": 85,
   "id": "92934d10",
   "metadata": {},
   "outputs": [
    {
     "name": "stdout",
     "output_type": "stream",
     "text": [
      "25.4\n"
     ]
    }
   ],
   "source": [
    "print((nd2.head(5).sum()*100/nd2.sum()).round(decimals=1))"
   ]
  },
  {
   "cell_type": "code",
   "execution_count": 86,
   "id": "2ff8a27e",
   "metadata": {},
   "outputs": [
    {
     "name": "stdout",
     "output_type": "stream",
     "text": [
      "AxesSubplot(0.260833,0.125;0.503333x0.755)\n"
     ]
    },
    {
     "data": {
      "image/png": "[encoded data removed]",
      "text/plain": [
       "<Figure size 432x288 with 1 Axes>"
      ]
     },
     "metadata": {},
     "output_type": "display_data"
    }
   ],
   "source": [
    "nd22 = nd2.head(5)\n",
    "if len(nd2) > 5:\n",
    "    nd22['Other Countries'.format(len(nd2) - 5)] = sum(nd2[5:])\n",
    "print(nd22.plot(kind='pie', ylabel='', radius = 2))"
   ]
  },
  {
   "cell_type": "markdown",
   "id": "70649406",
   "metadata": {},
   "source": [
    " "
   ]
  },
  {
   "cell_type": "markdown",
   "id": "9550c9bf",
   "metadata": {},
   "source": [
    "### Vulkaninis aktyvumas tiesiogiai susijęs su žemės drebėjimais"
   ]
  },
  {
   "cell_type": "code",
   "execution_count": 87,
   "id": "52172884",
   "metadata": {},
   "outputs": [],
   "source": [
    "nd3 = natural_disasters"
   ]
  },
  {
   "cell_type": "code",
   "execution_count": 88,
   "id": "795f3441",
   "metadata": {
    "scrolled": true
   },
   "outputs": [
    {
     "data": {
      "text/html": [
       "<div>\n",
       "<style scoped>\n",
       "    .dataframe tbody tr th:only-of-type {\n",
       "        vertical-align: middle;\n",
       "    }\n",
       "\n",
       "    .dataframe tbody tr th {\n",
       "        vertical-align: top;\n",
       "    }\n",
       "\n",
       "    .dataframe thead th {\n",
       "        text-align: right;\n",
       "    }\n",
       "</style>\n",
       "<table border=\"1\" class=\"dataframe\">\n",
       "  <thead>\n",
       "    <tr style=\"text-align: right;\">\n",
       "      <th></th>\n",
       "      <th>Year</th>\n",
       "      <th>Disaster_Subgroup</th>\n",
       "      <th>Disaster_Type</th>\n",
       "      <th>Disaster_Subtype</th>\n",
       "      <th>Event_Name</th>\n",
       "      <th>Country</th>\n",
       "      <th>Region</th>\n",
       "      <th>Continent</th>\n",
       "      <th>Location</th>\n",
       "      <th>Origin</th>\n",
       "      <th>Start_Year</th>\n",
       "      <th>End_Year</th>\n",
       "      <th>Total_Deaths</th>\n",
       "      <th>No_Injured</th>\n",
       "      <th>No_Affected</th>\n",
       "      <th>No_Homeless</th>\n",
       "      <th>Total_Affected</th>\n",
       "    </tr>\n",
       "  </thead>\n",
       "  <tbody>\n",
       "    <tr>\n",
       "      <th>0</th>\n",
       "      <td>1900</td>\n",
       "      <td>Climatological</td>\n",
       "      <td>Drought</td>\n",
       "      <td>Drought</td>\n",
       "      <td></td>\n",
       "      <td>Cabo Verde</td>\n",
       "      <td>Western Africa</td>\n",
       "      <td>Africa</td>\n",
       "      <td>Countrywide</td>\n",
       "      <td></td>\n",
       "      <td>1900</td>\n",
       "      <td>1900</td>\n",
       "      <td>11000</td>\n",
       "      <td></td>\n",
       "      <td></td>\n",
       "      <td></td>\n",
       "      <td></td>\n",
       "    </tr>\n",
       "    <tr>\n",
       "      <th>1</th>\n",
       "      <td>1900</td>\n",
       "      <td>Climatological</td>\n",
       "      <td>Drought</td>\n",
       "      <td>Drought</td>\n",
       "      <td></td>\n",
       "      <td>India</td>\n",
       "      <td>Southern Asia</td>\n",
       "      <td>Asia</td>\n",
       "      <td>Bengal</td>\n",
       "      <td></td>\n",
       "      <td>1900</td>\n",
       "      <td>1900</td>\n",
       "      <td>1250000</td>\n",
       "      <td></td>\n",
       "      <td></td>\n",
       "      <td></td>\n",
       "      <td></td>\n",
       "    </tr>\n",
       "    <tr>\n",
       "      <th>2</th>\n",
       "      <td>1902</td>\n",
       "      <td>Geophysical</td>\n",
       "      <td>Earthquake</td>\n",
       "      <td>Ground movement</td>\n",
       "      <td></td>\n",
       "      <td>Guatemala</td>\n",
       "      <td>Central America</td>\n",
       "      <td>Americas</td>\n",
       "      <td>Quezaltenango, San Marcos</td>\n",
       "      <td></td>\n",
       "      <td>1902</td>\n",
       "      <td>1902</td>\n",
       "      <td>2000</td>\n",
       "      <td></td>\n",
       "      <td></td>\n",
       "      <td></td>\n",
       "      <td></td>\n",
       "    </tr>\n",
       "  </tbody>\n",
       "</table>\n",
       "</div>"
      ],
      "text/plain": [
       "   Year Disaster_Subgroup Disaster_Type Disaster_Subtype Event_Name  \\\n",
       "0  1900    Climatological       Drought          Drought              \n",
       "1  1900    Climatological       Drought          Drought              \n",
       "2  1902       Geophysical    Earthquake  Ground movement              \n",
       "\n",
       "      Country           Region Continent                   Location Origin  \\\n",
       "0  Cabo Verde   Western Africa    Africa                Countrywide          \n",
       "1       India    Southern Asia      Asia                     Bengal          \n",
       "2   Guatemala  Central America  Americas  Quezaltenango, San Marcos          \n",
       "\n",
       "  Start_Year End_Year Total_Deaths No_Injured No_Affected No_Homeless  \\\n",
       "0       1900     1900        11000                                      \n",
       "1       1900     1900      1250000                                      \n",
       "2       1902     1902         2000                                      \n",
       "\n",
       "  Total_Affected  \n",
       "0                 \n",
       "1                 \n",
       "2                 "
      ]
     },
     "execution_count": 88,
     "metadata": {},
     "output_type": "execute_result"
    }
   ],
   "source": [
    "nd3.head(3)"
   ]
  },
  {
   "cell_type": "code",
   "execution_count": 89,
   "id": "359de22d",
   "metadata": {},
   "outputs": [],
   "source": [
    "earthquake_by_region = nd3.loc[nd3['Disaster_Type'].isin([\n",
    "    'Earthquake'])].groupby('Region')['Disaster_Type'].value_counts()"
   ]
  },
  {
   "cell_type": "code",
   "execution_count": 90,
   "id": "9601b0d3",
   "metadata": {},
   "outputs": [
    {
     "name": "stdout",
     "output_type": "stream",
     "text": [
      "Region                     Disaster_Type\n",
      "Australia and New Zealand  Earthquake        12\n",
      "Caribbean                  Earthquake        14\n",
      "Central America            Earthquake        84\n",
      "Central Asia               Earthquake        23\n",
      "Eastern Africa             Earthquake        27\n",
      "Eastern Asia               Earthquake       225\n",
      "Eastern Europe             Earthquake        29\n",
      "Melanesia                  Earthquake        30\n",
      "Micronesia                 Earthquake         1\n",
      "Middle Africa              Earthquake         5\n",
      "Northern Africa            Earthquake        31\n",
      "Northern America           Earthquake        40\n",
      "Northern Europe            Earthquake         5\n",
      "Polynesia                  Earthquake         5\n",
      "Russian Federation         Earthquake        23\n",
      "South America              Earthquake       127\n",
      "South-Eastern Asia         Earthquake       152\n",
      "Southern Africa            Earthquake         5\n",
      "Southern Asia              Earthquake       212\n",
      "Southern Europe            Earthquake        96\n",
      "Western Africa             Earthquake         2\n",
      "Western Asia               Earthquake        91\n",
      "Western Europe             Earthquake        10\n",
      "Name: Disaster_Type, dtype: int64\n"
     ]
    }
   ],
   "source": [
    "print(earthquake_by_region)"
   ]
  },
  {
   "cell_type": "code",
   "execution_count": 91,
   "id": "8af7554e",
   "metadata": {},
   "outputs": [],
   "source": [
    "volcanoes_by_region = nd3.loc[nd3['Disaster_Type'].isin([\n",
    "    'Volcanic activity'])].groupby('Region')['Disaster_Type'].value_counts()"
   ]
  },
  {
   "cell_type": "code",
   "execution_count": 92,
   "id": "cb9acab8",
   "metadata": {
    "scrolled": true
   },
   "outputs": [
    {
     "name": "stdout",
     "output_type": "stream",
     "text": [
      "Region                     Disaster_Type    \n",
      "Australia and New Zealand  Volcanic activity     2\n",
      "Caribbean                  Volcanic activity    10\n",
      "Central America            Volcanic activity    36\n",
      "Eastern Africa             Volcanic activity    10\n",
      "Eastern Asia               Volcanic activity    16\n",
      "Melanesia                  Volcanic activity    21\n",
      "Micronesia                 Volcanic activity     1\n",
      "Middle Africa              Volcanic activity     6\n",
      "Northern America           Volcanic activity     1\n",
      "Northern Europe            Volcanic activity     5\n",
      "Polynesia                  Volcanic activity     1\n",
      "Russian Federation         Volcanic activity     1\n",
      "South America              Volcanic activity    40\n",
      "South-Eastern Asia         Volcanic activity    80\n",
      "Southern Europe            Volcanic activity     5\n",
      "Western Africa             Volcanic activity     2\n",
      "Western Asia               Volcanic activity     1\n",
      "Name: Disaster_Type, dtype: int64\n"
     ]
    }
   ],
   "source": [
    "print(volcanoes_by_region)"
   ]
  },
  {
   "cell_type": "code",
   "execution_count": 93,
   "id": "341637f9",
   "metadata": {},
   "outputs": [],
   "source": [
    "join_tables = pd.merge(earthquake_by_region,volcanoes_by_region, on='Region',how='outer')"
   ]
  },
  {
   "cell_type": "code",
   "execution_count": 94,
   "id": "1f607e90",
   "metadata": {
    "scrolled": true
   },
   "outputs": [
    {
     "name": "stdout",
     "output_type": "stream",
     "text": [
      "                           Disaster_Type_x  Disaster_Type_y\n",
      "Region                                                     \n",
      "Australia and New Zealand               12              2.0\n",
      "Caribbean                               14             10.0\n",
      "Central America                         84             36.0\n",
      "Central Asia                            23              NaN\n",
      "Eastern Africa                          27             10.0\n",
      "Eastern Asia                           225             16.0\n",
      "Eastern Europe                          29              NaN\n",
      "Melanesia                               30             21.0\n",
      "Micronesia                               1              1.0\n",
      "Middle Africa                            5              6.0\n",
      "Northern Africa                         31              NaN\n",
      "Northern America                        40              1.0\n",
      "Northern Europe                          5              5.0\n",
      "Polynesia                                5              1.0\n",
      "Russian Federation                      23              1.0\n",
      "South America                          127             40.0\n",
      "South-Eastern Asia                     152             80.0\n",
      "Southern Africa                          5              NaN\n",
      "Southern Asia                          212              NaN\n",
      "Southern Europe                         96              5.0\n",
      "Western Africa                           2              2.0\n",
      "Western Asia                            91              1.0\n",
      "Western Europe                          10              NaN\n"
     ]
    }
   ],
   "source": [
    "print(join_tables)"
   ]
  },
  {
   "cell_type": "code",
   "execution_count": 95,
   "id": "80c5debc",
   "metadata": {},
   "outputs": [],
   "source": [
    "join_tables['Disaster_Type_y'] = join_tables['Disaster_Type_y'].fillna(0)"
   ]
  },
  {
   "cell_type": "code",
   "execution_count": 96,
   "id": "ebab3e12",
   "metadata": {},
   "outputs": [
    {
     "name": "stdout",
     "output_type": "stream",
     "text": [
      "                           Disaster_Type_x  Disaster_Type_y\n",
      "Region                                                     \n",
      "Australia and New Zealand               12              2.0\n",
      "Caribbean                               14             10.0\n",
      "Central America                         84             36.0\n",
      "Central Asia                            23              0.0\n",
      "Eastern Africa                          27             10.0\n",
      "Eastern Asia                           225             16.0\n",
      "Eastern Europe                          29              0.0\n",
      "Melanesia                               30             21.0\n",
      "Micronesia                               1              1.0\n",
      "Middle Africa                            5              6.0\n",
      "Northern Africa                         31              0.0\n",
      "Northern America                        40              1.0\n",
      "Northern Europe                          5              5.0\n",
      "Polynesia                                5              1.0\n",
      "Russian Federation                      23              1.0\n",
      "South America                          127             40.0\n",
      "South-Eastern Asia                     152             80.0\n",
      "Southern Africa                          5              0.0\n",
      "Southern Asia                          212              0.0\n",
      "Southern Europe                         96              5.0\n",
      "Western Africa                           2              2.0\n",
      "Western Asia                            91              1.0\n",
      "Western Europe                          10              0.0\n"
     ]
    }
   ],
   "source": [
    "print(join_tables)"
   ]
  },
  {
   "cell_type": "code",
   "execution_count": 97,
   "id": "e9b9450c",
   "metadata": {},
   "outputs": [
    {
     "name": "stdout",
     "output_type": "stream",
     "text": [
      "                           Earthquakes  Volcanoes_Eruptions\n",
      "Region                                                     \n",
      "Australia and New Zealand           12                  2.0\n",
      "Caribbean                           14                 10.0\n",
      "Central America                     84                 36.0\n",
      "Central Asia                        23                  0.0\n",
      "Eastern Africa                      27                 10.0\n",
      "Eastern Asia                       225                 16.0\n",
      "Eastern Europe                      29                  0.0\n",
      "Melanesia                           30                 21.0\n",
      "Micronesia                           1                  1.0\n",
      "Middle Africa                        5                  6.0\n",
      "Northern Africa                     31                  0.0\n",
      "Northern America                    40                  1.0\n",
      "Northern Europe                      5                  5.0\n",
      "Polynesia                            5                  1.0\n",
      "Russian Federation                  23                  1.0\n",
      "South America                      127                 40.0\n",
      "South-Eastern Asia                 152                 80.0\n",
      "Southern Africa                      5                  0.0\n",
      "Southern Asia                      212                  0.0\n",
      "Southern Europe                     96                  5.0\n",
      "Western Africa                       2                  2.0\n",
      "Western Asia                        91                  1.0\n",
      "Western Europe                      10                  0.0\n"
     ]
    }
   ],
   "source": [
    "print(join_tables.rename(columns={'Disaster_Type_x': 'Earthquakes', 'Disaster_Type_y': 'Volcanoes_Eruptions'}))"
   ]
  },
  {
   "cell_type": "code",
   "execution_count": 98,
   "id": "51e02854",
   "metadata": {},
   "outputs": [],
   "source": [
    "Region = nd3['Region'].unique()"
   ]
  },
  {
   "cell_type": "code",
   "execution_count": 99,
   "id": "28271357",
   "metadata": {
    "scrolled": false
   },
   "outputs": [
    {
     "data": {
      "image/png": "[encoded data removed]",
      "text/plain": [
       "<Figure size 432x288 with 1 Axes>"
      ]
     },
     "metadata": {
      "needs_background": "light"
     },
     "output_type": "display_data"
    }
   ],
   "source": [
    "plt.plot(Region, join_tables) \n",
    "plt.plot(Region, join_tables) \n",
    "plt.title('Vulkaninio aktyvumo priklausomybė nuo žemės drebėjimų pagal regioną') \n",
    "plt.legend(['Žemės drebėjimai', 'Ugnikalnių išsiveržimai']) \n",
    "plt.xticks(rotation='vertical')\n",
    "plt.ylabel('Kiekis') \n",
    "ax = plt.gca()\n",
    "leg = ax.get_legend()\n",
    "leg.legendHandles[0].set_color('green')\n",
    "leg.legendHandles[1].set_color('red')"
   ]
  },
  {
   "cell_type": "markdown",
   "id": "8cac698d",
   "metadata": {},
   "source": [
    " "
   ]
  },
  {
   "cell_type": "markdown",
   "id": "592aad95",
   "metadata": {},
   "source": [
    "### Biologinės katastrofos vidutiniškai pareikalauja daugiausiai žmonių aukų"
   ]
  },
  {
   "cell_type": "code",
   "execution_count": 100,
   "id": "d5c895f2",
   "metadata": {},
   "outputs": [],
   "source": [
    "nd4 = natural_disasters"
   ]
  },
  {
   "cell_type": "code",
   "execution_count": 101,
   "id": "d4889abd",
   "metadata": {
    "scrolled": true
   },
   "outputs": [
    {
     "data": {
      "text/html": [
       "<div>\n",
       "<style scoped>\n",
       "    .dataframe tbody tr th:only-of-type {\n",
       "        vertical-align: middle;\n",
       "    }\n",
       "\n",
       "    .dataframe tbody tr th {\n",
       "        vertical-align: top;\n",
       "    }\n",
       "\n",
       "    .dataframe thead th {\n",
       "        text-align: right;\n",
       "    }\n",
       "</style>\n",
       "<table border=\"1\" class=\"dataframe\">\n",
       "  <thead>\n",
       "    <tr style=\"text-align: right;\">\n",
       "      <th></th>\n",
       "      <th>Year</th>\n",
       "      <th>Disaster_Subgroup</th>\n",
       "      <th>Disaster_Type</th>\n",
       "      <th>Disaster_Subtype</th>\n",
       "      <th>Event_Name</th>\n",
       "      <th>Country</th>\n",
       "      <th>Region</th>\n",
       "      <th>Continent</th>\n",
       "      <th>Location</th>\n",
       "      <th>Origin</th>\n",
       "      <th>Start_Year</th>\n",
       "      <th>End_Year</th>\n",
       "      <th>Total_Deaths</th>\n",
       "      <th>No_Injured</th>\n",
       "      <th>No_Affected</th>\n",
       "      <th>No_Homeless</th>\n",
       "      <th>Total_Affected</th>\n",
       "    </tr>\n",
       "  </thead>\n",
       "  <tbody>\n",
       "    <tr>\n",
       "      <th>0</th>\n",
       "      <td>1900</td>\n",
       "      <td>Climatological</td>\n",
       "      <td>Drought</td>\n",
       "      <td>Drought</td>\n",
       "      <td></td>\n",
       "      <td>Cabo Verde</td>\n",
       "      <td>Western Africa</td>\n",
       "      <td>Africa</td>\n",
       "      <td>Countrywide</td>\n",
       "      <td></td>\n",
       "      <td>1900</td>\n",
       "      <td>1900</td>\n",
       "      <td>11000</td>\n",
       "      <td></td>\n",
       "      <td></td>\n",
       "      <td></td>\n",
       "      <td></td>\n",
       "    </tr>\n",
       "    <tr>\n",
       "      <th>1</th>\n",
       "      <td>1900</td>\n",
       "      <td>Climatological</td>\n",
       "      <td>Drought</td>\n",
       "      <td>Drought</td>\n",
       "      <td></td>\n",
       "      <td>India</td>\n",
       "      <td>Southern Asia</td>\n",
       "      <td>Asia</td>\n",
       "      <td>Bengal</td>\n",
       "      <td></td>\n",
       "      <td>1900</td>\n",
       "      <td>1900</td>\n",
       "      <td>1250000</td>\n",
       "      <td></td>\n",
       "      <td></td>\n",
       "      <td></td>\n",
       "      <td></td>\n",
       "    </tr>\n",
       "    <tr>\n",
       "      <th>2</th>\n",
       "      <td>1902</td>\n",
       "      <td>Geophysical</td>\n",
       "      <td>Earthquake</td>\n",
       "      <td>Ground movement</td>\n",
       "      <td></td>\n",
       "      <td>Guatemala</td>\n",
       "      <td>Central America</td>\n",
       "      <td>Americas</td>\n",
       "      <td>Quezaltenango, San Marcos</td>\n",
       "      <td></td>\n",
       "      <td>1902</td>\n",
       "      <td>1902</td>\n",
       "      <td>2000</td>\n",
       "      <td></td>\n",
       "      <td></td>\n",
       "      <td></td>\n",
       "      <td></td>\n",
       "    </tr>\n",
       "  </tbody>\n",
       "</table>\n",
       "</div>"
      ],
      "text/plain": [
       "   Year Disaster_Subgroup Disaster_Type Disaster_Subtype Event_Name  \\\n",
       "0  1900    Climatological       Drought          Drought              \n",
       "1  1900    Climatological       Drought          Drought              \n",
       "2  1902       Geophysical    Earthquake  Ground movement              \n",
       "\n",
       "      Country           Region Continent                   Location Origin  \\\n",
       "0  Cabo Verde   Western Africa    Africa                Countrywide          \n",
       "1       India    Southern Asia      Asia                     Bengal          \n",
       "2   Guatemala  Central America  Americas  Quezaltenango, San Marcos          \n",
       "\n",
       "  Start_Year End_Year Total_Deaths No_Injured No_Affected No_Homeless  \\\n",
       "0       1900     1900        11000                                      \n",
       "1       1900     1900      1250000                                      \n",
       "2       1902     1902         2000                                      \n",
       "\n",
       "  Total_Affected  \n",
       "0                 \n",
       "1                 \n",
       "2                 "
      ]
     },
     "execution_count": 101,
     "metadata": {},
     "output_type": "execute_result"
    }
   ],
   "source": [
    "nd4.head(3)"
   ]
  },
  {
   "cell_type": "code",
   "execution_count": 102,
   "id": "e464eac8",
   "metadata": {},
   "outputs": [],
   "source": [
    "nd4[['Total_Deaths']] = nd4[['Total_Deaths']].apply(pd.to_numeric)"
   ]
  },
  {
   "cell_type": "code",
   "execution_count": 103,
   "id": "88fc9898",
   "metadata": {},
   "outputs": [],
   "source": [
    "total_deaths = nd4.groupby('Disaster_Subgroup')['Total_Deaths'].sum().astype('int64').sort_values(ascending=False)"
   ]
  },
  {
   "cell_type": "code",
   "execution_count": 104,
   "id": "fb68845b",
   "metadata": {},
   "outputs": [
    {
     "name": "stdout",
     "output_type": "stream",
     "text": [
      "Disaster_Subgroup\n",
      "Climatological       11735106\n",
      "Biological            9595358\n",
      "Hydrological          7036386\n",
      "Geophysical           2379962\n",
      "Meteorological        1577850\n",
      "Extra-terrestrial           0\n",
      "Name: Total_Deaths, dtype: int64\n"
     ]
    }
   ],
   "source": [
    "print(total_deaths)"
   ]
  },
  {
   "cell_type": "code",
   "execution_count": 105,
   "id": "74afe078",
   "metadata": {},
   "outputs": [],
   "source": [
    "total_disasters = nd4.groupby('Disaster_Subgroup')['Disaster_Subgroup'].count().sort_values(ascending=False)"
   ]
  },
  {
   "cell_type": "code",
   "execution_count": 106,
   "id": "7655543c",
   "metadata": {
    "scrolled": true
   },
   "outputs": [
    {
     "name": "stdout",
     "output_type": "stream",
     "text": [
      "Disaster_Subgroup\n",
      "Hydrological         5377\n",
      "Meteorological       4476\n",
      "Geophysical          1533\n",
      "Biological           1480\n",
      "Climatological       1106\n",
      "Extra-terrestrial       1\n",
      "Name: Disaster_Subgroup, dtype: int64\n"
     ]
    }
   ],
   "source": [
    "print(total_disasters)"
   ]
  },
  {
   "cell_type": "code",
   "execution_count": 107,
   "id": "1924642b",
   "metadata": {
    "scrolled": false
   },
   "outputs": [],
   "source": [
    "nd4v=nd4.groupby('Disaster_Subgroup')['Total_Deaths'].mean().sort_values(ascending=False).fillna(0).astype('int64')"
   ]
  },
  {
   "cell_type": "code",
   "execution_count": 108,
   "id": "b1ec6d81",
   "metadata": {},
   "outputs": [
    {
     "name": "stdout",
     "output_type": "stream",
     "text": [
      "Disaster_Subgroup\n",
      "Climatological       50150\n",
      "Biological            8097\n",
      "Geophysical           2249\n",
      "Hydrological          1734\n",
      "Meteorological         470\n",
      "Extra-terrestrial        0\n",
      "Name: Total_Deaths, dtype: int64\n"
     ]
    }
   ],
   "source": [
    "print(nd4v)"
   ]
  },
  {
   "cell_type": "code",
   "execution_count": 109,
   "id": "a845e152",
   "metadata": {},
   "outputs": [
    {
     "name": "stdout",
     "output_type": "stream",
     "text": [
      "AxesSubplot(0.125,0.125;0.775x0.755)\n"
     ]
    },
    {
     "data": {
      "image/png": "[encoded data removed]",
      "text/plain": [
       "<Figure size 432x288 with 1 Axes>"
      ]
     },
     "metadata": {
      "needs_background": "light"
     },
     "output_type": "display_data"
    }
   ],
   "source": [
    "print(nd4v.plot.bar(x='Disaster_Subgroup', y=['nd4v'], title='Vid.mirčių skaičius pagal katastrofos subgrupę', \n",
    "                   xlabel='', color='r'))"
   ]
  },
  {
   "cell_type": "markdown",
   "id": "6a0acb2c",
   "metadata": {},
   "source": [
    " "
   ]
  },
  {
   "cell_type": "markdown",
   "id": "3597010e",
   "metadata": {},
   "source": [
    "### Ilgiau nei metus trunkančios ir mirtingiausios sausros daugiausiai įvyksta Afrikos kontinente"
   ]
  },
  {
   "cell_type": "code",
   "execution_count": 110,
   "id": "7910aea0",
   "metadata": {},
   "outputs": [],
   "source": [
    "nd5 = natural_disasters"
   ]
  },
  {
   "cell_type": "code",
   "execution_count": 111,
   "id": "fe8f4ff1",
   "metadata": {},
   "outputs": [
    {
     "data": {
      "text/html": [
       "<div>\n",
       "<style scoped>\n",
       "    .dataframe tbody tr th:only-of-type {\n",
       "        vertical-align: middle;\n",
       "    }\n",
       "\n",
       "    .dataframe tbody tr th {\n",
       "        vertical-align: top;\n",
       "    }\n",
       "\n",
       "    .dataframe thead th {\n",
       "        text-align: right;\n",
       "    }\n",
       "</style>\n",
       "<table border=\"1\" class=\"dataframe\">\n",
       "  <thead>\n",
       "    <tr style=\"text-align: right;\">\n",
       "      <th></th>\n",
       "      <th>Year</th>\n",
       "      <th>Disaster_Subgroup</th>\n",
       "      <th>Disaster_Type</th>\n",
       "      <th>Disaster_Subtype</th>\n",
       "      <th>Event_Name</th>\n",
       "      <th>Country</th>\n",
       "      <th>Region</th>\n",
       "      <th>Continent</th>\n",
       "      <th>Location</th>\n",
       "      <th>Origin</th>\n",
       "      <th>Start_Year</th>\n",
       "      <th>End_Year</th>\n",
       "      <th>Total_Deaths</th>\n",
       "      <th>No_Injured</th>\n",
       "      <th>No_Affected</th>\n",
       "      <th>No_Homeless</th>\n",
       "      <th>Total_Affected</th>\n",
       "    </tr>\n",
       "  </thead>\n",
       "  <tbody>\n",
       "    <tr>\n",
       "      <th>0</th>\n",
       "      <td>1900</td>\n",
       "      <td>Climatological</td>\n",
       "      <td>Drought</td>\n",
       "      <td>Drought</td>\n",
       "      <td></td>\n",
       "      <td>Cabo Verde</td>\n",
       "      <td>Western Africa</td>\n",
       "      <td>Africa</td>\n",
       "      <td>Countrywide</td>\n",
       "      <td></td>\n",
       "      <td>1900</td>\n",
       "      <td>1900</td>\n",
       "      <td>11000.0</td>\n",
       "      <td></td>\n",
       "      <td></td>\n",
       "      <td></td>\n",
       "      <td></td>\n",
       "    </tr>\n",
       "    <tr>\n",
       "      <th>1</th>\n",
       "      <td>1900</td>\n",
       "      <td>Climatological</td>\n",
       "      <td>Drought</td>\n",
       "      <td>Drought</td>\n",
       "      <td></td>\n",
       "      <td>India</td>\n",
       "      <td>Southern Asia</td>\n",
       "      <td>Asia</td>\n",
       "      <td>Bengal</td>\n",
       "      <td></td>\n",
       "      <td>1900</td>\n",
       "      <td>1900</td>\n",
       "      <td>1250000.0</td>\n",
       "      <td></td>\n",
       "      <td></td>\n",
       "      <td></td>\n",
       "      <td></td>\n",
       "    </tr>\n",
       "    <tr>\n",
       "      <th>2</th>\n",
       "      <td>1902</td>\n",
       "      <td>Geophysical</td>\n",
       "      <td>Earthquake</td>\n",
       "      <td>Ground movement</td>\n",
       "      <td></td>\n",
       "      <td>Guatemala</td>\n",
       "      <td>Central America</td>\n",
       "      <td>Americas</td>\n",
       "      <td>Quezaltenango, San Marcos</td>\n",
       "      <td></td>\n",
       "      <td>1902</td>\n",
       "      <td>1902</td>\n",
       "      <td>2000.0</td>\n",
       "      <td></td>\n",
       "      <td></td>\n",
       "      <td></td>\n",
       "      <td></td>\n",
       "    </tr>\n",
       "  </tbody>\n",
       "</table>\n",
       "</div>"
      ],
      "text/plain": [
       "   Year Disaster_Subgroup Disaster_Type Disaster_Subtype Event_Name  \\\n",
       "0  1900    Climatological       Drought          Drought              \n",
       "1  1900    Climatological       Drought          Drought              \n",
       "2  1902       Geophysical    Earthquake  Ground movement              \n",
       "\n",
       "      Country           Region Continent                   Location Origin  \\\n",
       "0  Cabo Verde   Western Africa    Africa                Countrywide          \n",
       "1       India    Southern Asia      Asia                     Bengal          \n",
       "2   Guatemala  Central America  Americas  Quezaltenango, San Marcos          \n",
       "\n",
       "  Start_Year End_Year  Total_Deaths No_Injured No_Affected No_Homeless  \\\n",
       "0       1900     1900       11000.0                                      \n",
       "1       1900     1900     1250000.0                                      \n",
       "2       1902     1902        2000.0                                      \n",
       "\n",
       "  Total_Affected  \n",
       "0                 \n",
       "1                 \n",
       "2                 "
      ]
     },
     "execution_count": 111,
     "metadata": {},
     "output_type": "execute_result"
    }
   ],
   "source": [
    "nd5.head(3)"
   ]
  },
  {
   "cell_type": "code",
   "execution_count": 112,
   "id": "8a79a9b3",
   "metadata": {},
   "outputs": [],
   "source": [
    "nd5[['Start_Year', 'End_Year']] = nd5[['Start_Year', 'End_Year']].apply(pd.to_numeric)"
   ]
  },
  {
   "cell_type": "code",
   "execution_count": 113,
   "id": "8aa3b591",
   "metadata": {},
   "outputs": [],
   "source": [
    "nd5[['Total_Deaths']] = nd5[['Total_Deaths']].apply(pd.to_numeric)"
   ]
  },
  {
   "cell_type": "code",
   "execution_count": 114,
   "id": "240396b4",
   "metadata": {},
   "outputs": [],
   "source": [
    "def drought_function():\n",
    "    return nd5.loc[(nd5['Disaster_Type'] == 'Drought') &\n",
    "                   ((nd5['End_Year'] - nd5['Start_Year']) > 2)]"
   ]
  },
  {
   "cell_type": "code",
   "execution_count": 115,
   "id": "957153df",
   "metadata": {},
   "outputs": [],
   "source": [
    "drought_amount = drought_function().groupby('Continent')['Disaster_Type'].count()"
   ]
  },
  {
   "cell_type": "code",
   "execution_count": 116,
   "id": "ab12069d",
   "metadata": {},
   "outputs": [
    {
     "name": "stdout",
     "output_type": "stream",
     "text": [
      "Continent\n",
      "Africa      54\n",
      "Americas     8\n",
      "Asia         3\n",
      "Europe       2\n",
      "Oceania      1\n",
      "Name: Disaster_Type, dtype: int64\n"
     ]
    }
   ],
   "source": [
    "print(drought_amount)"
   ]
  },
  {
   "cell_type": "code",
   "execution_count": 117,
   "id": "f10e557a",
   "metadata": {},
   "outputs": [],
   "source": [
    "drought_deaths = drought_function().groupby('Continent')[\n",
    "                                                         'Total_Deaths'].sum().round().astype(\n",
    "                                                         'int64').sort_values(ascending=False)"
   ]
  },
  {
   "cell_type": "code",
   "execution_count": 118,
   "id": "ec13d1e6",
   "metadata": {},
   "outputs": [
    {
     "name": "stdout",
     "output_type": "stream",
     "text": [
      "Continent\n",
      "Africa      308285\n",
      "Asia           143\n",
      "Americas        12\n",
      "Europe           0\n",
      "Oceania          0\n",
      "Name: Total_Deaths, dtype: int64\n"
     ]
    }
   ],
   "source": [
    "print(drought_deaths)"
   ]
  },
  {
   "cell_type": "code",
   "execution_count": 119,
   "id": "22e0861a",
   "metadata": {},
   "outputs": [],
   "source": [
    "deaths_average = (drought_deaths/drought_amount).round().astype('int64').sort_values(ascending=False)"
   ]
  },
  {
   "cell_type": "code",
   "execution_count": 120,
   "id": "9e191b02",
   "metadata": {},
   "outputs": [
    {
     "name": "stdout",
     "output_type": "stream",
     "text": [
      "Continent\n",
      "Africa      5709\n",
      "Asia          48\n",
      "Americas       2\n",
      "Europe         0\n",
      "Oceania        0\n",
      "dtype: int64\n"
     ]
    }
   ],
   "source": [
    "print(deaths_average)"
   ]
  },
  {
   "cell_type": "code",
   "execution_count": 121,
   "id": "330419b1",
   "metadata": {},
   "outputs": [
    {
     "data": {
      "text/plain": [
       "Text(0.5, 1.0, 'Mirtingumas nuo sausrų')"
      ]
     },
     "execution_count": 121,
     "metadata": {},
     "output_type": "execute_result"
    },
    {
     "data": {
      "image/png": "[encoded data removed]",
      "text/plain": [
       "<Figure size 1440x360 with 2 Axes>"
      ]
     },
     "metadata": {
      "needs_background": "light"
     },
     "output_type": "display_data"
    }
   ],
   "source": [
    "f = plt.figure(figsize=(20,5))\n",
    "ax = f.add_subplot(121)\n",
    "ax.plot(drought_amount, 'y')\n",
    "plt.title('Ilgiau nei metus trukusių sausrų kiekis')\n",
    "ax2 = f.add_subplot(122)\n",
    "ax2.plot(drought_deaths, 'r')\n",
    "plt.title('Mirtingumas nuo sausrų')"
   ]
  },
  {
   "cell_type": "code",
   "execution_count": 122,
   "id": "53815c90",
   "metadata": {},
   "outputs": [
    {
     "data": {
      "text/plain": [
       "Text(0.5, 1.0, 'Vidutinis mirtingumas nuo sausrų')"
      ]
     },
     "execution_count": 122,
     "metadata": {},
     "output_type": "execute_result"
    },
    {
     "data": {
      "image/png": "[encoded data removed]",
      "text/plain": [
       "<Figure size 432x288 with 1 Axes>"
      ]
     },
     "metadata": {
      "needs_background": "light"
     },
     "output_type": "display_data"
    }
   ],
   "source": [
    "plt.plot(deaths_average, 'r')\n",
    "plt.title('Vidutinis mirtingumas nuo sausrų')"
   ]
  },
  {
   "cell_type": "markdown",
   "id": "33c8b568",
   "metadata": {},
   "source": [
    " "
   ]
  },
  {
   "cell_type": "markdown",
   "id": "bb3c844f",
   "metadata": {},
   "source": [
    "### Natūralios katastrofos mažiausiai paveikia Europos kontinento gyventojus"
   ]
  },
  {
   "cell_type": "code",
   "execution_count": 123,
   "id": "86af6b39",
   "metadata": {},
   "outputs": [],
   "source": [
    "nd6 =  natural_disasters"
   ]
  },
  {
   "cell_type": "code",
   "execution_count": 124,
   "id": "221d86ed",
   "metadata": {
    "scrolled": true
   },
   "outputs": [
    {
     "data": {
      "text/html": [
       "<div>\n",
       "<style scoped>\n",
       "    .dataframe tbody tr th:only-of-type {\n",
       "        vertical-align: middle;\n",
       "    }\n",
       "\n",
       "    .dataframe tbody tr th {\n",
       "        vertical-align: top;\n",
       "    }\n",
       "\n",
       "    .dataframe thead th {\n",
       "        text-align: right;\n",
       "    }\n",
       "</style>\n",
       "<table border=\"1\" class=\"dataframe\">\n",
       "  <thead>\n",
       "    <tr style=\"text-align: right;\">\n",
       "      <th></th>\n",
       "      <th>Year</th>\n",
       "      <th>Disaster_Subgroup</th>\n",
       "      <th>Disaster_Type</th>\n",
       "      <th>Disaster_Subtype</th>\n",
       "      <th>Event_Name</th>\n",
       "      <th>Country</th>\n",
       "      <th>Region</th>\n",
       "      <th>Continent</th>\n",
       "      <th>Location</th>\n",
       "      <th>Origin</th>\n",
       "      <th>Start_Year</th>\n",
       "      <th>End_Year</th>\n",
       "      <th>Total_Deaths</th>\n",
       "      <th>No_Injured</th>\n",
       "      <th>No_Affected</th>\n",
       "      <th>No_Homeless</th>\n",
       "      <th>Total_Affected</th>\n",
       "    </tr>\n",
       "  </thead>\n",
       "  <tbody>\n",
       "    <tr>\n",
       "      <th>0</th>\n",
       "      <td>1900</td>\n",
       "      <td>Climatological</td>\n",
       "      <td>Drought</td>\n",
       "      <td>Drought</td>\n",
       "      <td></td>\n",
       "      <td>Cabo Verde</td>\n",
       "      <td>Western Africa</td>\n",
       "      <td>Africa</td>\n",
       "      <td>Countrywide</td>\n",
       "      <td></td>\n",
       "      <td>1900</td>\n",
       "      <td>1900</td>\n",
       "      <td>11000.0</td>\n",
       "      <td></td>\n",
       "      <td></td>\n",
       "      <td></td>\n",
       "      <td></td>\n",
       "    </tr>\n",
       "    <tr>\n",
       "      <th>1</th>\n",
       "      <td>1900</td>\n",
       "      <td>Climatological</td>\n",
       "      <td>Drought</td>\n",
       "      <td>Drought</td>\n",
       "      <td></td>\n",
       "      <td>India</td>\n",
       "      <td>Southern Asia</td>\n",
       "      <td>Asia</td>\n",
       "      <td>Bengal</td>\n",
       "      <td></td>\n",
       "      <td>1900</td>\n",
       "      <td>1900</td>\n",
       "      <td>1250000.0</td>\n",
       "      <td></td>\n",
       "      <td></td>\n",
       "      <td></td>\n",
       "      <td></td>\n",
       "    </tr>\n",
       "    <tr>\n",
       "      <th>2</th>\n",
       "      <td>1902</td>\n",
       "      <td>Geophysical</td>\n",
       "      <td>Earthquake</td>\n",
       "      <td>Ground movement</td>\n",
       "      <td></td>\n",
       "      <td>Guatemala</td>\n",
       "      <td>Central America</td>\n",
       "      <td>Americas</td>\n",
       "      <td>Quezaltenango, San Marcos</td>\n",
       "      <td></td>\n",
       "      <td>1902</td>\n",
       "      <td>1902</td>\n",
       "      <td>2000.0</td>\n",
       "      <td></td>\n",
       "      <td></td>\n",
       "      <td></td>\n",
       "      <td></td>\n",
       "    </tr>\n",
       "  </tbody>\n",
       "</table>\n",
       "</div>"
      ],
      "text/plain": [
       "   Year Disaster_Subgroup Disaster_Type Disaster_Subtype Event_Name  \\\n",
       "0  1900    Climatological       Drought          Drought              \n",
       "1  1900    Climatological       Drought          Drought              \n",
       "2  1902       Geophysical    Earthquake  Ground movement              \n",
       "\n",
       "      Country           Region Continent                   Location Origin  \\\n",
       "0  Cabo Verde   Western Africa    Africa                Countrywide          \n",
       "1       India    Southern Asia      Asia                     Bengal          \n",
       "2   Guatemala  Central America  Americas  Quezaltenango, San Marcos          \n",
       "\n",
       "   Start_Year  End_Year  Total_Deaths No_Injured No_Affected No_Homeless  \\\n",
       "0        1900      1900       11000.0                                      \n",
       "1        1900      1900     1250000.0                                      \n",
       "2        1902      1902        2000.0                                      \n",
       "\n",
       "  Total_Affected  \n",
       "0                 \n",
       "1                 \n",
       "2                 "
      ]
     },
     "execution_count": 124,
     "metadata": {},
     "output_type": "execute_result"
    }
   ],
   "source": [
    "nd6.head(3)"
   ]
  },
  {
   "cell_type": "code",
   "execution_count": 125,
   "id": "ddc32548",
   "metadata": {},
   "outputs": [],
   "source": [
    "nd5[['Total_Affected']] = nd5[['Total_Affected']].apply(pd.to_numeric)"
   ]
  },
  {
   "cell_type": "code",
   "execution_count": 126,
   "id": "1f5ed3b3",
   "metadata": {},
   "outputs": [
    {
     "name": "stdout",
     "output_type": "stream",
     "text": [
      "7850922278\n"
     ]
    }
   ],
   "source": [
    "print(nd6['Total_Affected'].sum().astype('int64'))"
   ]
  },
  {
   "cell_type": "code",
   "execution_count": 127,
   "id": "1bd01d7b",
   "metadata": {},
   "outputs": [],
   "source": [
    "affected_people = nd6.groupby('Continent')['Total_Affected'].sum().astype('int64')"
   ]
  },
  {
   "cell_type": "code",
   "execution_count": 128,
   "id": "b11b0319",
   "metadata": {
    "scrolled": true
   },
   "outputs": [
    {
     "name": "stdout",
     "output_type": "stream",
     "text": [
      "Continent\n",
      "Africa       524530309\n",
      "Americas     402414510\n",
      "Asia        6830938141\n",
      "Europe        68135132\n",
      "Oceania       24904186\n",
      "Name: Total_Affected, dtype: int64\n"
     ]
    }
   ],
   "source": [
    "print(affected_people)"
   ]
  },
  {
   "cell_type": "code",
   "execution_count": 129,
   "id": "f88e1eb9",
   "metadata": {},
   "outputs": [],
   "source": [
    "disasters_amount = nd6.groupby('Continent')['Continent'].count()"
   ]
  },
  {
   "cell_type": "code",
   "execution_count": 130,
   "id": "1afce897",
   "metadata": {},
   "outputs": [
    {
     "name": "stdout",
     "output_type": "stream",
     "text": [
      "Continent\n",
      "Africa      2555\n",
      "Americas    3476\n",
      "Asia        5564\n",
      "Europe      1738\n",
      "Oceania      640\n",
      "Name: Continent, dtype: int64\n"
     ]
    }
   ],
   "source": [
    "print(disasters_amount)"
   ]
  },
  {
   "cell_type": "code",
   "execution_count": 131,
   "id": "7286346e",
   "metadata": {},
   "outputs": [],
   "source": [
    "affected_average = (affected_people/disasters_amount).sort_values(ascending=False).astype('int64')"
   ]
  },
  {
   "cell_type": "code",
   "execution_count": 132,
   "id": "56203658",
   "metadata": {},
   "outputs": [
    {
     "name": "stdout",
     "output_type": "stream",
     "text": [
      "Continent\n",
      "Asia        1227702\n",
      "Africa       205295\n",
      "Americas     115769\n",
      "Europe        39203\n",
      "Oceania       38912\n",
      "dtype: int64\n"
     ]
    }
   ],
   "source": [
    "print(affected_average)"
   ]
  },
  {
   "cell_type": "code",
   "execution_count": 133,
   "id": "b303f33c",
   "metadata": {
    "scrolled": true
   },
   "outputs": [
    {
     "name": "stdout",
     "output_type": "stream",
     "text": [
      "AxesSubplot(0.125,0.125;0.775x0.755)\n"
     ]
    },
    {
     "data": {
      "image/png": "[encoded data removed]",
      "text/plain": [
       "<Figure size 432x288 with 1 Axes>"
      ]
     },
     "metadata": {
      "needs_background": "light"
     },
     "output_type": "display_data"
    }
   ],
   "source": [
    "print(affected_average.plot.bar(x='Continent', y=['affected_average'], \n",
    "                                 title='Paveiktų žmonių vidurkis pagal kontinentą', \n",
    "                                 xlabel='', color=['y','k','r','b', 'g']))"
   ]
  },
  {
   "cell_type": "markdown",
   "id": "a84261f9",
   "metadata": {},
   "source": [
    " "
   ]
  },
  {
   "cell_type": "markdown",
   "id": "7272da2d",
   "metadata": {},
   "source": [
    "### Bėgant metams katastrofos dažnėja"
   ]
  },
  {
   "cell_type": "code",
   "execution_count": 134,
   "id": "3f48b76b",
   "metadata": {},
   "outputs": [],
   "source": [
    "nd7 = natural_disasters"
   ]
  },
  {
   "cell_type": "code",
   "execution_count": 135,
   "id": "3640de97",
   "metadata": {},
   "outputs": [
    {
     "data": {
      "text/html": [
       "<div>\n",
       "<style scoped>\n",
       "    .dataframe tbody tr th:only-of-type {\n",
       "        vertical-align: middle;\n",
       "    }\n",
       "\n",
       "    .dataframe tbody tr th {\n",
       "        vertical-align: top;\n",
       "    }\n",
       "\n",
       "    .dataframe thead th {\n",
       "        text-align: right;\n",
       "    }\n",
       "</style>\n",
       "<table border=\"1\" class=\"dataframe\">\n",
       "  <thead>\n",
       "    <tr style=\"text-align: right;\">\n",
       "      <th></th>\n",
       "      <th>Year</th>\n",
       "      <th>Disaster_Subgroup</th>\n",
       "      <th>Disaster_Type</th>\n",
       "      <th>Disaster_Subtype</th>\n",
       "      <th>Event_Name</th>\n",
       "      <th>Country</th>\n",
       "      <th>Region</th>\n",
       "      <th>Continent</th>\n",
       "      <th>Location</th>\n",
       "      <th>Origin</th>\n",
       "      <th>Start_Year</th>\n",
       "      <th>End_Year</th>\n",
       "      <th>Total_Deaths</th>\n",
       "      <th>No_Injured</th>\n",
       "      <th>No_Affected</th>\n",
       "      <th>No_Homeless</th>\n",
       "      <th>Total_Affected</th>\n",
       "    </tr>\n",
       "  </thead>\n",
       "  <tbody>\n",
       "    <tr>\n",
       "      <th>0</th>\n",
       "      <td>1900</td>\n",
       "      <td>Climatological</td>\n",
       "      <td>Drought</td>\n",
       "      <td>Drought</td>\n",
       "      <td></td>\n",
       "      <td>Cabo Verde</td>\n",
       "      <td>Western Africa</td>\n",
       "      <td>Africa</td>\n",
       "      <td>Countrywide</td>\n",
       "      <td></td>\n",
       "      <td>1900</td>\n",
       "      <td>1900</td>\n",
       "      <td>11000.0</td>\n",
       "      <td></td>\n",
       "      <td></td>\n",
       "      <td></td>\n",
       "      <td>NaN</td>\n",
       "    </tr>\n",
       "    <tr>\n",
       "      <th>1</th>\n",
       "      <td>1900</td>\n",
       "      <td>Climatological</td>\n",
       "      <td>Drought</td>\n",
       "      <td>Drought</td>\n",
       "      <td></td>\n",
       "      <td>India</td>\n",
       "      <td>Southern Asia</td>\n",
       "      <td>Asia</td>\n",
       "      <td>Bengal</td>\n",
       "      <td></td>\n",
       "      <td>1900</td>\n",
       "      <td>1900</td>\n",
       "      <td>1250000.0</td>\n",
       "      <td></td>\n",
       "      <td></td>\n",
       "      <td></td>\n",
       "      <td>NaN</td>\n",
       "    </tr>\n",
       "    <tr>\n",
       "      <th>2</th>\n",
       "      <td>1902</td>\n",
       "      <td>Geophysical</td>\n",
       "      <td>Earthquake</td>\n",
       "      <td>Ground movement</td>\n",
       "      <td></td>\n",
       "      <td>Guatemala</td>\n",
       "      <td>Central America</td>\n",
       "      <td>Americas</td>\n",
       "      <td>Quezaltenango, San Marcos</td>\n",
       "      <td></td>\n",
       "      <td>1902</td>\n",
       "      <td>1902</td>\n",
       "      <td>2000.0</td>\n",
       "      <td></td>\n",
       "      <td></td>\n",
       "      <td></td>\n",
       "      <td>NaN</td>\n",
       "    </tr>\n",
       "  </tbody>\n",
       "</table>\n",
       "</div>"
      ],
      "text/plain": [
       "   Year Disaster_Subgroup Disaster_Type Disaster_Subtype Event_Name  \\\n",
       "0  1900    Climatological       Drought          Drought              \n",
       "1  1900    Climatological       Drought          Drought              \n",
       "2  1902       Geophysical    Earthquake  Ground movement              \n",
       "\n",
       "      Country           Region Continent                   Location Origin  \\\n",
       "0  Cabo Verde   Western Africa    Africa                Countrywide          \n",
       "1       India    Southern Asia      Asia                     Bengal          \n",
       "2   Guatemala  Central America  Americas  Quezaltenango, San Marcos          \n",
       "\n",
       "   Start_Year  End_Year  Total_Deaths No_Injured No_Affected No_Homeless  \\\n",
       "0        1900      1900       11000.0                                      \n",
       "1        1900      1900     1250000.0                                      \n",
       "2        1902      1902        2000.0                                      \n",
       "\n",
       "   Total_Affected  \n",
       "0             NaN  \n",
       "1             NaN  \n",
       "2             NaN  "
      ]
     },
     "execution_count": 135,
     "metadata": {},
     "output_type": "execute_result"
    }
   ],
   "source": [
    "nd7.head(3)"
   ]
  },
  {
   "cell_type": "code",
   "execution_count": 136,
   "id": "86b86470",
   "metadata": {},
   "outputs": [],
   "source": [
    "nd77 = nd7.Year.value_counts().reset_index(name='Sum_of_Disasters').sort_values(by=['index'] ).astype('int64')"
   ]
  },
  {
   "cell_type": "code",
   "execution_count": 137,
   "id": "66475e75",
   "metadata": {
    "scrolled": true
   },
   "outputs": [
    {
     "name": "stdout",
     "output_type": "stream",
     "text": [
      "AxesSubplot(0.125,0.125;0.775x0.755)\n"
     ]
    },
    {
     "data": {
      "image/png": "[encoded data removed]",
      "text/plain": [
       "<Figure size 1440x360 with 1 Axes>"
      ]
     },
     "metadata": {
      "needs_background": "light"
     },
     "output_type": "display_data"
    }
   ],
   "source": [
    "print(nd77.plot.area(x='index', y=['Sum_of_Disasters'], \n",
    "                            title='Katastrofų kiekis pagal metus', \n",
    "                            xlabel= '', color= 'tab:brown', figsize=(20,5)))"
   ]
  },
  {
   "cell_type": "markdown",
   "id": "50463166",
   "metadata": {},
   "source": [
    " "
   ]
  },
  {
   "cell_type": "markdown",
   "id": "c249c838",
   "metadata": {},
   "source": [
    "## Išvados"
   ]
  },
  {
   "cell_type": "markdown",
   "id": "c84a915d",
   "metadata": {},
   "source": [
    "    1) Azijos kontinente iš tikrųjų įvyksta daugiausiai natūralių katastrofų.\n",
    "    2) JAV, labai nežymiai aplenkus Kiniją, buvo patvirtinta, kad ją galima laikyti katastrofų ''karalienė''.\n",
    "    3) Vykstant katastrofiniams žemės drebėjimams, vulkaninis aktyvumas padidėja ir to pasekoje, dažnu atveju, \n",
    "    išsiveržia ugnikalniai.\n",
    "    4) Klimatologinės katastrofos vidutiniškai pareikalauja žymiai daugiau aukų nei visos kitos. Biologinės atsiduria\n",
    "    antroje vietoje.\n",
    "    5) Hipotezė visiškai patvirtinta. Afrika stipriai lenkia kitus kontinentus pagal ilgiau nei metus trukusių \n",
    "    sausrų vidutinį mirtingumą ir sausrų kiekį. \n",
    "    6) Natūralios katastrofos poveikis, imant paveiktų žmonių kiekį per katastrofą, mažiausias yra Okeanijoje ir\n",
    "    Europoje. Daugiausiai žmonių nukenčia Azijoje. \n",
    "    7) Bėgant metams, katastrofų daugėjo, bet paskui pradėjo po truputi mažėti. Todėl teigti, kad katastrofų su \n",
    "    metais daugėja, pagal turimus duomenys, negalime."
   ]
  }
 ],
 "metadata": {
  "kernelspec": {
   "display_name": "Python 3 (ipykernel)",
   "language": "python",
   "name": "python3"
  },
  "language_info": {
   "codemirror_mode": {
    "name": "ipython",
    "version": 3
   },
   "file_extension": ".py",
   "mimetype": "text/x-python",
   "name": "python",
   "nbconvert_exporter": "python",
   "pygments_lexer": "ipython3",
   "version": "3.9.7"
  },
  "toc": {
   "base_numbering": 1,
   "nav_menu": {
    "height": "119px",
    "width": "195px"
   },
   "number_sections": true,
   "sideBar": true,
   "skip_h1_title": false,
   "title_cell": "Table of Contents",
   "title_sidebar": "Contents",
   "toc_cell": false,
   "toc_position": {},
   "toc_section_display": true,
   "toc_window_display": false
  }
 },
 "nbformat": 4,
 "nbformat_minor": 5
}
